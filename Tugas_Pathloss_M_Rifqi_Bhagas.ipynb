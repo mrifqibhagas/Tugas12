{
  "nbformat": 4,
  "nbformat_minor": 0,
  "metadata": {
    "colab": {
      "name": "Tugas Pathloss M Rifqi Bhagas.ipynb",
      "provenance": [],
      "collapsed_sections": [],
      "authorship_tag": "ABX9TyMNeQfFFEd3ZDby33408dL5",
      "include_colab_link": true
    },
    "kernelspec": {
      "name": "python3",
      "display_name": "Python 3"
    }
  },
  "cells": [
    {
      "cell_type": "markdown",
      "metadata": {
        "id": "view-in-github",
        "colab_type": "text"
      },
      "source": [
        "<a href=\"https://colab.research.google.com/github/mrifqibhagas/Tugas12/blob/main/Tugas_Pathloss_M_Rifqi_Bhagas.ipynb\" target=\"_parent\"><img src=\"https://colab.research.google.com/assets/colab-badge.svg\" alt=\"Open In Colab\"/></a>"
      ]
    },
    {
      "cell_type": "code",
      "metadata": {
        "id": "yK-XEI5RLpjY",
        "colab": {
          "base_uri": "https://localhost:8080/"
        },
        "outputId": "3a415535-7812-43bd-f8f7-4e53d10a020e"
      },
      "source": [
        "d = int(input(\"Masukan jarak yang di inginkan (KM) : \"))\r\n",
        "fc = int(input(\"Masukan Frekuensi (400 MHz-2000 MHz) : \"))\r\n",
        "hr = int(input(\"Masukan tinggi antena penerima (1-30 Meter) : \"))\r\n",
        "ht = int(input(\"Masukan tinggi antena pemancar (30-200 Meter) : \"))\r\n",
        "area = input(\"Masukan tipe area : \")\r\n"
      ],
      "execution_count": null,
      "outputs": [
        {
          "output_type": "stream",
          "text": [
            "Masukan jarak yang di inginkan (KM) : 1\n",
            "Masukan Frekuensi (400 MHz-2000 MHz) : 500\n",
            "Masukan tinggi antena penerima (1-30 Meter) : 5\n",
            "Masukan tinggi antena pemancar (30-200 Meter) : 30\n",
            "Masukan tipe area : open\n"
          ],
          "name": "stdout"
        }
      ]
    },
    {
      "cell_type": "code",
      "metadata": {
        "id": "cArqS-NGmIQG"
      },
      "source": [
        "import numpy as np"
      ],
      "execution_count": null,
      "outputs": []
    },
    {
      "cell_type": "code",
      "metadata": {
        "id": "2dROxd-4IC-k"
      },
      "source": [
        "NtL = lambda x: 10*np.log10(x)"
      ],
      "execution_count": null,
      "outputs": []
    },
    {
      "cell_type": "code",
      "metadata": {
        "id": "_ucTblHWIbv0"
      },
      "source": [
        "LtN = lambda x: 10**(x/10)"
      ],
      "execution_count": null,
      "outputs": []
    },
    {
      "cell_type": "code",
      "metadata": {
        "id": "KENSZxlkEyCp"
      },
      "source": [
        "def getc1 (x):\r\n",
        "  if x in range (400,1500):\r\n",
        "    return 69.55\r\n",
        "    \r\n",
        "  elif x in range (1500,2000):\r\n",
        "    return 46.3 "
      ],
      "execution_count": null,
      "outputs": []
    },
    {
      "cell_type": "code",
      "metadata": {
        "id": "DiRPVzWTGNrC"
      },
      "source": [
        "def getc2 (x):\r\n",
        "  if x in range (400,1500):\r\n",
        "    return 26.16\r\n",
        "\r\n",
        "  elif x in range (1500,2000):\r\n",
        "    return 33.9 "
      ],
      "execution_count": null,
      "outputs": []
    },
    {
      "cell_type": "code",
      "metadata": {
        "id": "IrxOza9cJ2vA"
      },
      "source": [
        "def getcm (area,fc)   :\r\n",
        "  if area == \"urban\":\r\n",
        "    return 0\r\n",
        "  if area == \"suburban\":\r\n",
        "    return -2*(np.log(fc/28)**2 - 5.4)\r\n",
        "  if area == \"open\":\r\n",
        "    return -4.78*(np.log10(fc))**2 + 18.33*np.log10(fc)-40.94\r\n",
        "  "
      ],
      "execution_count": null,
      "outputs": []
    },
    {
      "cell_type": "code",
      "metadata": {
        "id": "VpLf4YCOIfzj"
      },
      "source": [
        " def getahr(x):\r\n",
        "  return (1.1*np.log10(x)-0.7)*hr - (1.56*np.log10(x)-0.8)"
      ],
      "execution_count": null,
      "outputs": []
    },
    {
      "cell_type": "code",
      "metadata": {
        "id": "_RWlosFdLhlO"
      },
      "source": [
        "  c1 = getc1(fc)\n",
        "  c2 = getc2(fc)\n",
        "  cm = getcm(area,fc)\n",
        "  ahr = getahr(fc)"
      ],
      "execution_count": null,
      "outputs": []
    },
    {
      "cell_type": "code",
      "metadata": {
        "id": "Nc5Ml4gevZZv",
        "colab": {
          "base_uri": "https://localhost:8080/"
        },
        "outputId": "429bd1cf-c0f8-4a60-ee76-a061fee87fd9"
      },
      "source": [
        "print(c1)\r\n",
        "print(c2)\r\n",
        "print(cm)\r\n",
        "print(ahr)"
      ],
      "execution_count": null,
      "outputs": [
        {
          "output_type": "stream",
          "text": [
            "69.55\n",
            "26.16\n",
            "-26.2874986435014\n",
            "7.933941817083917\n"
          ],
          "name": "stdout"
        }
      ]
    },
    {
      "cell_type": "code",
      "metadata": {
        "id": "lwOjfXSLv-pr",
        "colab": {
          "base_uri": "https://localhost:8080/"
        },
        "outputId": "6d78372e-90ce-42cb-d79a-c275c065c386"
      },
      "source": [
        "\r\n",
        "pldb = c1 + c2*np.log10(fc) - 13.83*np.log10(ht) - ahr + (44.9-6.55*np.log10(ht))*np.log10(d) + cm\r\n",
        "print(\" Total Pathloss adalah =\" , pldb , \"db\")"
      ],
      "execution_count": null,
      "outputs": [
        {
          "output_type": "stream",
          "text": [
            " Total Pathloss adalah = 85.50502790007198 db\n"
          ],
          "name": "stdout"
        }
      ]
    }
  ]
}